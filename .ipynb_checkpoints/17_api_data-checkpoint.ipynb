{
 "cells": [
  {
   "cell_type": "markdown",
   "id": "11060170-bdfd-4cc4-b430-4d344dea36b5",
   "metadata": {},
   "source": [
    "# geting none api "
   ]
  },
  {
   "cell_type": "markdown",
   "id": "c1aa328f-1a46-4cf4-8892-286ceb8e9489",
   "metadata": {},
   "source": []
  }
 ],
 "metadata": {
  "kernelspec": {
   "display_name": "Python 3 (ipykernel)",
   "language": "python",
   "name": "python3"
  },
  "language_info": {
   "codemirror_mode": {
    "name": "ipython",
    "version": 3
   },
   "file_extension": ".py",
   "mimetype": "text/x-python",
   "name": "python",
   "nbconvert_exporter": "python",
   "pygments_lexer": "ipython3",
   "version": "3.12.7"
  }
 },
 "nbformat": 4,
 "nbformat_minor": 5
}
