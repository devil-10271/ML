{
 "cells": [
  {
   "cell_type": "markdown",
   "id": "53274064-b5b2-437b-bed6-c86c6440f83e",
   "metadata": {},
   "source": [
    "# web Scraping on IMBD data"
   ]
  },
  {
   "cell_type": "code",
   "execution_count": 21,
   "id": "4aa3f01c-afa4-4bde-b420-151e91b0739c",
   "metadata": {},
   "outputs": [],
   "source": [
    "import numpy as np \n",
    "import pandas as pd\n",
    "from bs4 import BeautifulSoup\n",
    "import http"
   ]
  },
  {
   "cell_type": "code",
   "execution_count": 22,
   "id": "17589c5d-713d-48ca-a1ee-1fa0eabcbee7",
   "metadata": {},
   "outputs": [],
   "source": [
    "import requests"
   ]
  },
  {
   "cell_type": "code",
   "execution_count": 87,
   "id": "5acda48f-8362-4c8a-adea-f50f61a6b6b0",
   "metadata": {},
   "outputs": [],
   "source": [
    "head={'User-Agent':'Mozilla/5.0 (Windows NT 6.3; Win 64 ; x64) Apple WeKit /537.36(KHTML , like Gecko) Chrome/80.0.3987.162 Safari/537.36'}\n",
    "# webpage=requests.get(\"https://www.linkedin.com/jobs/collections/recommended/?currentJobId=4273385069&discover=recommended&discoveryOrigin=JOBS_HOME_JYMBII\",headers=head).text\n",
    "\n",
    "\n",
    "webpage=requests.get(\"https://www.imdb.com/chart/top/?ref_=hm_nv_menu\",headers=head).text\n",
    "\n"
   ]
  },
  {
   "cell_type": "code",
   "execution_count": 88,
   "id": "643fc8e0-4673-494a-9d3d-2133085ccb79",
   "metadata": {},
   "outputs": [],
   "source": [
    "# webpage"
   ]
  },
  {
   "cell_type": "code",
   "execution_count": 89,
   "id": "42ebce6a-305e-4594-b5d9-306e4a47edd8",
   "metadata": {},
   "outputs": [],
   "source": [
    "soup=BeautifulSoup(webpage,\"lxml\")"
   ]
  },
  {
   "cell_type": "code",
   "execution_count": 91,
   "id": "9b6beea3-3114-47ef-93f1-72b41ee32c3f",
   "metadata": {},
   "outputs": [],
   "source": [
    "# soup"
   ]
  },
  {
   "cell_type": "code",
   "execution_count": 92,
   "id": "18074fa7-4f87-4ba6-9873-d3826314ad50",
   "metadata": {},
   "outputs": [
    {
     "data": {
      "text/plain": [
       "2"
      ]
     },
     "execution_count": 92,
     "metadata": {},
     "output_type": "execute_result"
    }
   ],
   "source": [
    "len(soup)"
   ]
  },
  {
   "cell_type": "code",
   "execution_count": 97,
   "id": "d16ce166-beb1-4d5e-b537-c3bdca64cbef",
   "metadata": {},
   "outputs": [],
   "source": [
    "li=soup.find_all(\"div\",class_=\"sc-ec40e84d-1\")"
   ]
  },
  {
   "cell_type": "code",
   "execution_count": 100,
   "id": "d99b5523-0aad-4030-88bc-e2442411a985",
   "metadata": {},
   "outputs": [
    {
     "data": {
      "text/plain": [
       "'25. The Green Mile19993h 9mUA8.6\\xa0(1.5M)RateMark as watched'"
      ]
     },
     "execution_count": 100,
     "metadata": {},
     "output_type": "execute_result"
    }
   ],
   "source": [
    "li[24].text"
   ]
  },
  {
   "cell_type": "code",
   "execution_count": 124,
   "id": "c1263033-3dc5-4944-ab36-0d6878d7d5b5",
   "metadata": {},
   "outputs": [],
   "source": [
    "duera=list()\n",
    "name=list()\n",
    "ratring=list()\n",
    "year=list()\n",
    "\n",
    "\n",
    "for i in li:\n",
    "    name.append(i.find('h3',class_=\"ipc-title__text\").text.strip())\n",
    "    year.append(i.find('span',class_=\"sc-15ac7568-7\").text.strip())\n",
    "    duera.append(i.find_all('span',class_=\"sc-15ac7568-7\")[1].text.strip())\n",
    "    # class=\"ipc-rating-star--rating\"\n",
    "    ratring.append(i.find('span',class_=\"ipc-rating-star--rating\").text.strip())"
   ]
  },
  {
   "cell_type": "code",
   "execution_count": 127,
   "id": "63e42bb2-c66f-45fe-8969-0b17500321d1",
   "metadata": {},
   "outputs": [],
   "source": [
    "metadata={\"name\":name,\"rating\":ratring,\"year\":year,\"Dueration\":duera}\n",
    "\n",
    "df=pd.DataFrame(metadata)"
   ]
  },
  {
   "cell_type": "code",
   "execution_count": 128,
   "id": "5868382e-6bf9-4a27-88ee-cb5b5d69f4fe",
   "metadata": {},
   "outputs": [
    {
     "data": {
      "text/html": [
       "<div>\n",
       "<style scoped>\n",
       "    .dataframe tbody tr th:only-of-type {\n",
       "        vertical-align: middle;\n",
       "    }\n",
       "\n",
       "    .dataframe tbody tr th {\n",
       "        vertical-align: top;\n",
       "    }\n",
       "\n",
       "    .dataframe thead th {\n",
       "        text-align: right;\n",
       "    }\n",
       "</style>\n",
       "<table border=\"1\" class=\"dataframe\">\n",
       "  <thead>\n",
       "    <tr style=\"text-align: right;\">\n",
       "      <th></th>\n",
       "      <th>name</th>\n",
       "      <th>rating</th>\n",
       "      <th>year</th>\n",
       "      <th>Dueration</th>\n",
       "    </tr>\n",
       "  </thead>\n",
       "  <tbody>\n",
       "    <tr>\n",
       "      <th>0</th>\n",
       "      <td>1. The Shawshank Redemption</td>\n",
       "      <td>9.3</td>\n",
       "      <td>1994</td>\n",
       "      <td>2h 22m</td>\n",
       "    </tr>\n",
       "    <tr>\n",
       "      <th>1</th>\n",
       "      <td>2. The Godfather</td>\n",
       "      <td>9.2</td>\n",
       "      <td>1972</td>\n",
       "      <td>2h 55m</td>\n",
       "    </tr>\n",
       "    <tr>\n",
       "      <th>2</th>\n",
       "      <td>3. The Dark Knight</td>\n",
       "      <td>9.1</td>\n",
       "      <td>2008</td>\n",
       "      <td>2h 32m</td>\n",
       "    </tr>\n",
       "    <tr>\n",
       "      <th>3</th>\n",
       "      <td>4. The Godfather: Part II</td>\n",
       "      <td>9.0</td>\n",
       "      <td>1974</td>\n",
       "      <td>3h 22m</td>\n",
       "    </tr>\n",
       "    <tr>\n",
       "      <th>4</th>\n",
       "      <td>5. 12 Angry Men</td>\n",
       "      <td>9.0</td>\n",
       "      <td>1957</td>\n",
       "      <td>1h 36m</td>\n",
       "    </tr>\n",
       "  </tbody>\n",
       "</table>\n",
       "</div>"
      ],
      "text/plain": [
       "                          name rating  year Dueration\n",
       "0  1. The Shawshank Redemption    9.3  1994    2h 22m\n",
       "1             2. The Godfather    9.2  1972    2h 55m\n",
       "2           3. The Dark Knight    9.1  2008    2h 32m\n",
       "3    4. The Godfather: Part II    9.0  1974    3h 22m\n",
       "4              5. 12 Angry Men    9.0  1957    1h 36m"
      ]
     },
     "execution_count": 128,
     "metadata": {},
     "output_type": "execute_result"
    }
   ],
   "source": [
    "df.head()"
   ]
  },
  {
   "cell_type": "code",
   "execution_count": null,
   "id": "70b355fa-27ca-4f55-9c2a-e5c9c5df5145",
   "metadata": {},
   "outputs": [],
   "source": []
  }
 ],
 "metadata": {
  "kernelspec": {
   "display_name": "Python 3 (ipykernel)",
   "language": "python",
   "name": "python3"
  },
  "language_info": {
   "codemirror_mode": {
    "name": "ipython",
    "version": 3
   },
   "file_extension": ".py",
   "mimetype": "text/x-python",
   "name": "python",
   "nbconvert_exporter": "python",
   "pygments_lexer": "ipython3",
   "version": "3.12.7"
  }
 },
 "nbformat": 4,
 "nbformat_minor": 5
}
